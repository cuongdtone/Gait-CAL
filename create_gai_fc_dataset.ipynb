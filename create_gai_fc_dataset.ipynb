{
 "cells": [
  {
   "cell_type": "code",
   "execution_count": 3,
   "metadata": {
    "collapsed": true,
    "pycharm": {
     "name": "#%%\n"
    }
   },
   "outputs": [],
   "source": [
    "import matplotlib.pyplot as plt\n",
    "import cv2\n",
    "import numpy as np\n",
    "from models.autoencoder import AE\n",
    "import torch\n",
    "from datasets.video_dataset import VideoDataset\n",
    "import os\n",
    "import pickle\n",
    "from tqdm import tqdm"
   ]
  },
  {
   "cell_type": "code",
   "execution_count": 4,
   "outputs": [
    {
     "data": {
      "text/plain": "AE(\n  (encoder): Sequential(\n    (0): Conv2d(1, 16, kernel_size=(3, 3), stride=(3, 3), padding=(1, 1))\n    (1): Hardswish()\n    (2): MaxPool2d(kernel_size=2, stride=2, padding=0, dilation=1, ceil_mode=False)\n    (3): Conv2d(16, 4, kernel_size=(3, 3), stride=(2, 2), padding=(1, 1))\n    (4): Hardswish()\n    (5): MaxPool2d(kernel_size=2, stride=1, padding=0, dilation=1, ceil_mode=False)\n  )\n  (decoder): Sequential(\n    (0): ConvTranspose2d(4, 16, kernel_size=(3, 3), stride=(2, 2))\n    (1): Hardswish()\n    (2): ConvTranspose2d(16, 8, kernel_size=(5, 5), stride=(3, 3), padding=(1, 1))\n    (3): Hardswish()\n    (4): ConvTranspose2d(8, 1, kernel_size=(2, 2), stride=(2, 2), padding=(1, 1))\n    (5): Tanh()\n  )\n)"
     },
     "execution_count": 4,
     "metadata": {},
     "output_type": "execute_result"
    }
   ],
   "source": [
    "device = torch.device('cpu')\n",
    "net = AE()\n",
    "net.load_state_dict(torch.load('src/ae_epoch_19_loss_0.04.pt'))\n",
    "net.eval()"
   ],
   "metadata": {
    "collapsed": false,
    "pycharm": {
     "name": "#%%\n"
    }
   }
  },
  {
   "cell_type": "code",
   "execution_count": 5,
   "outputs": [],
   "source": [
    "def save_new_pickle(data, save_dir):\n",
    "    c = 0\n",
    "    while os.path.exists(os.path.join(save_dir, '%03d.pkl'%(c))):\n",
    "        c += 1\n",
    "    path = os.path.join(save_dir, '%03d.pkl'%(c))\n",
    "    with open(path, 'wb') as handle:\n",
    "        pickle.dump(data, handle, protocol=pickle.HIGHEST_PROTOCOL)"
   ],
   "metadata": {
    "collapsed": false,
    "pycharm": {
     "name": "#%%\n"
    }
   }
  },
  {
   "cell_type": "code",
   "execution_count": 6,
   "outputs": [
    {
     "name": "stdout",
     "output_type": "stream",
     "text": [
      "['245', '107', '274', '296', '034', '322', '377', '053', '441', '318', '056', '310', '366', '221', '450', '132', '008', '005', '467', '168', '123', '023', '089', '376', '093', '044', '022', '287', '341', '423', '074', '065', '343', '203', '110', '048', '113', '120', '220', '149', '158', '169', '148', '270', '247', '440', '057', '073', '378', '397', '473', '131', '337', '075', '444', '095', '334', '208', '308', '174', '017', '436', '354', '329', '049', '468', '358', '263', '264', '104', '070', '071', '086']\n"
     ]
    }
   ],
   "source": [
    "dataset = VideoDataset(r'E:\\Gait\\dataset', txt_list_file='src/test.txt', img_size=112, vid_len=40)\n",
    "print(dataset.people)"
   ],
   "metadata": {
    "collapsed": false,
    "pycharm": {
     "name": "#%%\n"
    }
   }
  },
  {
   "cell_type": "code",
   "execution_count": 7,
   "outputs": [
    {
     "name": "stderr",
     "output_type": "stream",
     "text": [
      "100%|██████████| 3947/3947 [04:55<00:00, 13.36it/s]\n"
     ]
    }
   ],
   "source": [
    "save_dataset = 'gait_fc_dataset/test_p2'\n",
    "os.makedirs(save_dataset, exist_ok=True)\n",
    "\n",
    "with torch.no_grad():\n",
    "    for i in tqdm(range(len(dataset))):\n",
    "        vid, target = dataset.__getitem__(i)\n",
    "        gei = np.zeros((112, 112))\n",
    "        features = []\n",
    "        for frame in  vid:\n",
    "            code = net.encoder(frame.unsqueeze(0))\n",
    "            code = code.view(-1).numpy().tolist()\n",
    "            features.append(code)\n",
    "            gei += frame[0].numpy()\n",
    "        features = np.array(features)\n",
    "        # print(features.shape)\n",
    "        path_save = os.path.join(save_dataset, str(target))\n",
    "        # print(path_save)\n",
    "        os.makedirs(path_save, exist_ok=True)\n",
    "        save_new_pickle({'ae_feat': features, 'gei': gei}, path_save)\n",
    "\n",
    "        # print(gei)\n",
    "        # plt.imshow(gei)\n",
    "        # plt.show()\n",
    "        # break"
   ],
   "metadata": {
    "collapsed": false,
    "pycharm": {
     "name": "#%%\n"
    }
   }
  }
 ],
 "metadata": {
  "kernelspec": {
   "display_name": "Python 3",
   "language": "python",
   "name": "python3"
  },
  "language_info": {
   "codemirror_mode": {
    "name": "ipython",
    "version": 2
   },
   "file_extension": ".py",
   "mimetype": "text/x-python",
   "name": "python",
   "nbconvert_exporter": "python",
   "pygments_lexer": "ipython2",
   "version": "2.7.6"
  }
 },
 "nbformat": 4,
 "nbformat_minor": 0
}