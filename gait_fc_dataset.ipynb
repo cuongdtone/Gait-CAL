{
 "cells": [
  {
   "cell_type": "code",
   "execution_count": null,
   "metadata": {
    "collapsed": true,
    "pycharm": {
     "name": "#%%\n"
    }
   },
   "outputs": [],
   "source": [
    "import pickle\n",
    "import matplotlib.pyplot as plt\n",
    "import numpy as np\n",
    "\n",
    "from datasets.gait_fc_dataset import GaitFCDatasetV2"
   ]
  },
  {
   "cell_type": "code",
   "execution_count": null,
   "outputs": [],
   "source": [
    "with open('gait_fc_dataset/train/0/000.pkl', 'rb') as handle:\n",
    "    negative_vid = pickle.load(handle)\n",
    "\n",
    "ae_feat = negative_vid['ae_feat']\n",
    "gei = negative_vid['gei']\n",
    "print(gei)\n",
    "plt.imshow(gei)\n",
    "plt.show()"
   ],
   "metadata": {
    "collapsed": false,
    "pycharm": {
     "name": "#%%\n",
     "is_executing": true
    }
   }
  },
  {
   "cell_type": "code",
   "execution_count": null,
   "outputs": [],
   "source": [
    "gait_fc_dataset = GaitFCDatasetV2('gait_fc_dataset/train')"
   ],
   "metadata": {
    "collapsed": false,
    "pycharm": {
     "name": "#%%\n"
    }
   }
  },
  {
   "cell_type": "code",
   "execution_count": null,
   "outputs": [],
   "source": [
    "a_v, a_gei, target = gait_fc_dataset.__getitem__(0)\n",
    "print(a_v)"
   ],
   "metadata": {
    "collapsed": false,
    "pycharm": {
     "name": "#%%\n"
    }
   }
  },
  {
   "cell_type": "markdown",
   "source": [
    "# Mean and Std Calc"
   ],
   "metadata": {
    "collapsed": false,
    "pycharm": {
     "name": "#%% md\n"
    }
   }
  },
  {
   "cell_type": "code",
   "execution_count": null,
   "outputs": [],
   "source": [
    "feats = []\n",
    "for i in range(len(gait_fc_dataset)):\n",
    "    a_v, a_gei, target = gait_fc_dataset.__getitem__(i)\n",
    "    for f in a_v:\n",
    "        print(f)\n",
    "        feats.append(f)\n"
   ],
   "metadata": {
    "collapsed": false,
    "pycharm": {
     "name": "#%%\n"
    }
   }
  },
  {
   "cell_type": "code",
   "execution_count": null,
   "outputs": [],
   "source": [
    "feats = np.array(feats)\n",
    "print(feats.shape)"
   ],
   "metadata": {
    "collapsed": false,
    "pycharm": {
     "name": "#%%\n"
    }
   }
  },
  {
   "cell_type": "code",
   "execution_count": null,
   "outputs": [],
   "source": [
    "means = np.mean(feats, axis=0)\n",
    "std = np.std(feats, axis=0)\n",
    "print(means.shape)\n",
    "print(std.shape)\n",
    "print(means)"
   ],
   "metadata": {
    "collapsed": false,
    "pycharm": {
     "name": "#%%\n",
     "is_executing": true
    }
   }
  },
  {
   "cell_type": "code",
   "execution_count": null,
   "outputs": [],
   "source": [
    "print(feats.shape)"
   ],
   "metadata": {
    "collapsed": false,
    "pycharm": {
     "name": "#%%\n"
    }
   }
  },
  {
   "cell_type": "code",
   "execution_count": null,
   "outputs": [],
   "source": [
    "with open('gait_fc_dataset/train/13/001.pkl', 'rb') as handle:\n",
    "    negative_vid = pickle.load(handle)\n",
    "\n",
    "ae_feat = negative_vid['ae_feat']\n",
    "gei = negative_vid['gei']\n",
    "# print(ae_feat)\n",
    "\n",
    "# ae_feat = (ae_feat[25] - means)/std\n",
    "# print(ae_feat)"
   ],
   "metadata": {
    "collapsed": false,
    "pycharm": {
     "name": "#%%\n"
    }
   }
  },
  {
   "cell_type": "code",
   "execution_count": null,
   "outputs": [],
   "source": [
    "np.save('src/means_ae.npy', means)\n",
    "np.save('src/std_ae.npy', std)"
   ],
   "metadata": {
    "collapsed": false,
    "pycharm": {
     "name": "#%%\n"
    }
   }
  },
  {
   "cell_type": "code",
   "execution_count": 18,
   "outputs": [
    {
     "name": "stdout",
     "output_type": "stream",
     "text": [
      "[[ 9.55755826  9.55727318  9.54807538 ...  9.58110074 10.59562032\n",
      "  10.59229939]\n",
      " [ 9.55755826  9.55727318  9.54807538 ...  9.58110074 10.59562032\n",
      "  10.59229939]\n",
      " [ 9.55755826  9.55727318  9.54807538 ...  9.58110074 10.59562032\n",
      "  10.59229939]\n",
      " ...\n",
      " [ 9.55755826  9.55727318  9.54807538 ...  9.58110074 10.59562032\n",
      "  10.59229939]\n",
      " [ 9.55755826  9.55727318  9.54807538 ...  9.58110074 10.59562032\n",
      "  10.59229939]\n",
      " [ 9.55755826  9.55727318  9.54807538 ...  9.58110074 10.59562032\n",
      "  10.59229939]]\n",
      "(40, 324)\n"
     ]
    }
   ],
   "source": [
    "m = np.array([np.load('src/means_ae.npy')] * 40)\n",
    "s = np.array([np.load('src/std_ae.npy')]*40)\n",
    "print(m)\n",
    "print(s.shape)"
   ],
   "metadata": {
    "collapsed": false,
    "pycharm": {
     "name": "#%%\n"
    }
   }
  },
  {
   "cell_type": "code",
   "execution_count": 20,
   "outputs": [
    {
     "name": "stdout",
     "output_type": "stream",
     "text": [
      "[[ 9.56068993  9.56068993  9.56068993 ... 10.585186   10.60636711\n",
      "  10.60636711]\n",
      " [ 9.56068993  9.56068993  9.56068993 ... 10.60636711 10.60636711\n",
      "  10.60636711]\n",
      " [ 9.56068993  9.56068993  9.56068993 ... 10.60636711 10.60636711\n",
      "  10.60636711]\n",
      " ...\n",
      " [ 9.56068993  9.56068993  9.56068993 ... 10.60636711 10.60636711\n",
      "  10.60636711]\n",
      " [ 9.56068993  9.56068993  9.56068993 ... 10.60636711 10.60636711\n",
      "  10.60636711]\n",
      " [ 9.56068993  9.56068993  9.56068993 ... 10.60636711 10.60636711\n",
      "  10.60636711]]\n",
      "[[0.02655404 0.02548742 0.04795689 ... 0.43949341 0.03926129 0.07056594]\n",
      " [0.02655404 0.02548742 0.04795689 ... 0.44876449 0.03926129 0.07056594]\n",
      " [0.02655404 0.02548742 0.04795689 ... 0.44876449 0.03926129 0.07056594]\n",
      " ...\n",
      " [0.02655404 0.02548742 0.04795689 ... 0.44876449 0.03926129 0.07056594]\n",
      " [0.02655404 0.02548742 0.04795689 ... 0.44876449 0.03926129 0.07056594]\n",
      " [0.02655404 0.02548742 0.04795689 ... 0.44876449 0.03926129 0.07056594]]\n",
      "5.344346121903834 -7.189089504972724\n"
     ]
    }
   ],
   "source": [
    "feat = (ae_feat - m)/s\n",
    "print(ae_feat)\n",
    "print(feat)\n",
    "print(feat.max(), feat.min())"
   ],
   "metadata": {
    "collapsed": false,
    "pycharm": {
     "name": "#%%\n"
    }
   }
  },
  {
   "cell_type": "code",
   "execution_count": 21,
   "outputs": [
    {
     "name": "stdout",
     "output_type": "stream",
     "text": [
      "400\n"
     ]
    }
   ],
   "source": [
    "print(len(set(gait_fc_dataset.target)))"
   ],
   "metadata": {
    "collapsed": false,
    "pycharm": {
     "name": "#%%\n"
    }
   }
  }
 ],
 "metadata": {
  "kernelspec": {
   "display_name": "Python 3",
   "language": "python",
   "name": "python3"
  },
  "language_info": {
   "codemirror_mode": {
    "name": "ipython",
    "version": 2
   },
   "file_extension": ".py",
   "mimetype": "text/x-python",
   "name": "python",
   "nbconvert_exporter": "python",
   "pygments_lexer": "ipython2",
   "version": "2.7.6"
  }
 },
 "nbformat": 4,
 "nbformat_minor": 0
}