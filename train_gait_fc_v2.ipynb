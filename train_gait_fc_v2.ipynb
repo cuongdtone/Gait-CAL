{
 "cells": [
  {
   "cell_type": "code",
   "execution_count": null,
   "metadata": {
    "collapsed": true,
    "pycharm": {
     "name": "#%%\n"
    }
   },
   "outputs": [],
   "source": [
    "from datasets.gait_fc_dataset import GaitFCDatasetV2\n",
    "from models.gait_fc import GaitFCV2\n",
    "import torch\n",
    "from losses.arcloss import ArcFace, DistCrossEntropy\n",
    "from torch.nn import functional as F\n"
   ]
  },
  {
   "cell_type": "code",
   "execution_count": null,
   "outputs": [],
   "source": [
    "train_dataset = GaitFCDatasetV2('gait_fc_dataset/train')\n",
    "print(len(train_dataset))"
   ],
   "metadata": {
    "collapsed": false,
    "pycharm": {
     "name": "#%%\n"
    }
   }
  },
  {
   "cell_type": "code",
   "execution_count": null,
   "outputs": [],
   "source": [
    "batch_size = 32\n",
    "epochs = 50\n",
    "train_loader = torch.utils.data.DataLoader(train_dataset, batch_size=batch_size, shuffle=True)"
   ],
   "metadata": {
    "collapsed": false,
    "pycharm": {
     "name": "#%%\n"
    }
   }
  },
  {
   "cell_type": "code",
   "execution_count": null,
   "outputs": [],
   "source": [
    "device = torch.device('cpu')\n",
    "model = GaitFCV2()\n",
    "model.to(device)\n",
    "model.train()\n",
    "\n",
    "arc = ArcFace(256, 400, s=32, m=0.5)\n"
   ],
   "metadata": {
    "collapsed": false,
    "pycharm": {
     "name": "#%%\n"
    }
   }
  },
  {
   "cell_type": "code",
   "execution_count": null,
   "outputs": [],
   "source": [
    "margin = 1.\n",
    "criteron = torch.nn.CrossEntropyLoss()\n",
    "optimizer = torch.optim.Adam(model.parameters(), lr=0.001, weight_decay=1e-4)\n",
    "scheduler = torch.optim.lr_scheduler.StepLR(optimizer, 8, gamma=0.1, last_epoch=-1)"
   ],
   "metadata": {
    "collapsed": false,
    "pycharm": {
     "name": "#%%\n"
    }
   }
  },
  {
   "cell_type": "code",
   "execution_count": null,
   "outputs": [],
   "source": [
    "start_epoch = 0\n",
    "print('start training !')\n",
    "for epoch in range(start_epoch, epochs):\n",
    "    model.train()\n",
    "    losses = []\n",
    "    iter = 0\n",
    "    for batch_idx, (a_v, a_gei, target) in enumerate(train_loader):\n",
    "        a_v = a_v.to(device).float()\n",
    "        a_gei = a_gei.to(device).float()\n",
    "        optimizer.zero_grad()\n",
    "        anchor_out = model(a_v, a_gei)\n",
    "        print(target)\n",
    "        anchor_out = arc(anchor_out, target)\n",
    "        loss = criteron(anchor_out, target)\n",
    "        loss.backward()\n",
    "        optimizer.step()\n",
    "        print(f'Epoch: [%d]/[%d] Training, %.2f%%,{iter}/{len(train_dataset)}, Loss={loss.item()}' % (epoch, epochs, iter*100/len(train_dataset)))\n",
    "        iter += len(a_v)\n",
    "    scheduler.step()\n",
    "\n"
   ],
   "metadata": {
    "collapsed": false,
    "pycharm": {
     "name": "#%%\n"
    }
   }
  },
  {
   "cell_type": "code",
   "execution_count": null,
   "outputs": [],
   "source": [
    "torch.save(model.state_dict(), 'src/gait_fcv2_epoch_50.pt')"
   ],
   "metadata": {
    "collapsed": false,
    "pycharm": {
     "name": "#%%\n"
    }
   }
  }
 ],
 "metadata": {
  "kernelspec": {
   "display_name": "Python 3",
   "language": "python",
   "name": "python3"
  },
  "language_info": {
   "codemirror_mode": {
    "name": "ipython",
    "version": 2
   },
   "file_extension": ".py",
   "mimetype": "text/x-python",
   "name": "python",
   "nbconvert_exporter": "python",
   "pygments_lexer": "ipython2",
   "version": "2.7.6"
  }
 },
 "nbformat": 4,
 "nbformat_minor": 0
}