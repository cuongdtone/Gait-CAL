{
 "cells": [
  {
   "cell_type": "code",
   "execution_count": 1,
   "metadata": {
    "collapsed": true,
    "pycharm": {
     "name": "#%%\n"
    }
   },
   "outputs": [],
   "source": [
    "import os\n",
    "import pickle\n",
    "import random\n",
    "import torch\n",
    "from models.gait_fc import GaitFC, GaitFCV2\n",
    "import numpy as np\n"
   ]
  },
  {
   "cell_type": "code",
   "execution_count": 2,
   "outputs": [
    {
     "name": "stdout",
     "output_type": "stream",
     "text": [
      "73\n",
      "1990 1957\n",
      "1990 1957\n",
      "73\n",
      "73\n"
     ]
    }
   ],
   "source": [
    "root = 'gait_fc_dataset/test_p2'\n",
    "ids = os.listdir(root)\n",
    "print(len(ids))\n",
    "\n",
    "videos_db = []\n",
    "target_db = []\n",
    "\n",
    "video_at = []\n",
    "target_at = []\n",
    "\n",
    "for idx in ids:\n",
    "\n",
    "    # print(idx)\n",
    "    videos = os.listdir(os.path.join(root, idx))\n",
    "    videos = [os.path.join(root, idx, v) for v in videos]\n",
    "\n",
    "    scale = int(len(videos)/2)\n",
    "\n",
    "    video_at += videos[:scale]\n",
    "    target_at += [int(idx)] * len(videos[:scale])\n",
    "\n",
    "    videos_db += videos[scale:]\n",
    "    target_db += [int(idx)] * len(videos[scale:])\n",
    "\n",
    "# print(set(idd).__len__())\n",
    "\n",
    "print(len(videos_db), len(video_at))\n",
    "print(len(target_db), len(target_at))\n",
    "\n",
    "print(len(set(target_db)))\n",
    "print(len(set(target_at)))"
   ],
   "metadata": {
    "collapsed": false,
    "pycharm": {
     "name": "#%%\n"
    }
   }
  },
  {
   "cell_type": "code",
   "execution_count": 3,
   "outputs": [
    {
     "data": {
      "text/plain": "GaitFCV2(\n  (gei_encoder): MobileFaceNet(\n    (layers): ModuleList(\n      (0): ConvBlock(\n        (layers): Sequential(\n          (0): Conv2d(1, 64, kernel_size=(3, 3), stride=(2, 2), padding=(1, 1), bias=False)\n          (1): BatchNorm2d(64, eps=1e-05, momentum=0.1, affine=True, track_running_stats=True)\n          (2): PReLU(num_parameters=64)\n        )\n      )\n      (1): ConvBlock(\n        (layers): Sequential(\n          (0): Conv2d(64, 64, kernel_size=(3, 3), stride=(1, 1), padding=(1, 1), groups=64, bias=False)\n          (1): BatchNorm2d(64, eps=1e-05, momentum=0.1, affine=True, track_running_stats=True)\n          (2): PReLU(num_parameters=64)\n        )\n      )\n      (2): DepthWise(\n        (layers): Sequential(\n          (0): ConvBlock(\n            (layers): Sequential(\n              (0): Conv2d(64, 128, kernel_size=(1, 1), stride=(1, 1), bias=False)\n              (1): BatchNorm2d(128, eps=1e-05, momentum=0.1, affine=True, track_running_stats=True)\n              (2): PReLU(num_parameters=128)\n            )\n          )\n          (1): ConvBlock(\n            (layers): Sequential(\n              (0): Conv2d(128, 128, kernel_size=(3, 3), stride=(2, 2), padding=(1, 1), groups=128, bias=False)\n              (1): BatchNorm2d(128, eps=1e-05, momentum=0.1, affine=True, track_running_stats=True)\n              (2): PReLU(num_parameters=128)\n            )\n          )\n          (2): LinearBlock(\n            (layers): Sequential(\n              (0): Conv2d(128, 64, kernel_size=(1, 1), stride=(1, 1), bias=False)\n              (1): BatchNorm2d(64, eps=1e-05, momentum=0.1, affine=True, track_running_stats=True)\n            )\n          )\n        )\n      )\n      (3): Residual(\n        (layers): Sequential(\n          (0): DepthWise(\n            (layers): Sequential(\n              (0): ConvBlock(\n                (layers): Sequential(\n                  (0): Conv2d(64, 128, kernel_size=(1, 1), stride=(1, 1), bias=False)\n                  (1): BatchNorm2d(128, eps=1e-05, momentum=0.1, affine=True, track_running_stats=True)\n                  (2): PReLU(num_parameters=128)\n                )\n              )\n              (1): ConvBlock(\n                (layers): Sequential(\n                  (0): Conv2d(128, 128, kernel_size=(3, 3), stride=(1, 1), padding=(1, 1), groups=128, bias=False)\n                  (1): BatchNorm2d(128, eps=1e-05, momentum=0.1, affine=True, track_running_stats=True)\n                  (2): PReLU(num_parameters=128)\n                )\n              )\n              (2): LinearBlock(\n                (layers): Sequential(\n                  (0): Conv2d(128, 64, kernel_size=(1, 1), stride=(1, 1), bias=False)\n                  (1): BatchNorm2d(64, eps=1e-05, momentum=0.1, affine=True, track_running_stats=True)\n                )\n              )\n            )\n          )\n          (1): DepthWise(\n            (layers): Sequential(\n              (0): ConvBlock(\n                (layers): Sequential(\n                  (0): Conv2d(64, 128, kernel_size=(1, 1), stride=(1, 1), bias=False)\n                  (1): BatchNorm2d(128, eps=1e-05, momentum=0.1, affine=True, track_running_stats=True)\n                  (2): PReLU(num_parameters=128)\n                )\n              )\n              (1): ConvBlock(\n                (layers): Sequential(\n                  (0): Conv2d(128, 128, kernel_size=(3, 3), stride=(1, 1), padding=(1, 1), groups=128, bias=False)\n                  (1): BatchNorm2d(128, eps=1e-05, momentum=0.1, affine=True, track_running_stats=True)\n                  (2): PReLU(num_parameters=128)\n                )\n              )\n              (2): LinearBlock(\n                (layers): Sequential(\n                  (0): Conv2d(128, 64, kernel_size=(1, 1), stride=(1, 1), bias=False)\n                  (1): BatchNorm2d(64, eps=1e-05, momentum=0.1, affine=True, track_running_stats=True)\n                )\n              )\n            )\n          )\n          (2): DepthWise(\n            (layers): Sequential(\n              (0): ConvBlock(\n                (layers): Sequential(\n                  (0): Conv2d(64, 128, kernel_size=(1, 1), stride=(1, 1), bias=False)\n                  (1): BatchNorm2d(128, eps=1e-05, momentum=0.1, affine=True, track_running_stats=True)\n                  (2): PReLU(num_parameters=128)\n                )\n              )\n              (1): ConvBlock(\n                (layers): Sequential(\n                  (0): Conv2d(128, 128, kernel_size=(3, 3), stride=(1, 1), padding=(1, 1), groups=128, bias=False)\n                  (1): BatchNorm2d(128, eps=1e-05, momentum=0.1, affine=True, track_running_stats=True)\n                  (2): PReLU(num_parameters=128)\n                )\n              )\n              (2): LinearBlock(\n                (layers): Sequential(\n                  (0): Conv2d(128, 64, kernel_size=(1, 1), stride=(1, 1), bias=False)\n                  (1): BatchNorm2d(64, eps=1e-05, momentum=0.1, affine=True, track_running_stats=True)\n                )\n              )\n            )\n          )\n          (3): DepthWise(\n            (layers): Sequential(\n              (0): ConvBlock(\n                (layers): Sequential(\n                  (0): Conv2d(64, 128, kernel_size=(1, 1), stride=(1, 1), bias=False)\n                  (1): BatchNorm2d(128, eps=1e-05, momentum=0.1, affine=True, track_running_stats=True)\n                  (2): PReLU(num_parameters=128)\n                )\n              )\n              (1): ConvBlock(\n                (layers): Sequential(\n                  (0): Conv2d(128, 128, kernel_size=(3, 3), stride=(1, 1), padding=(1, 1), groups=128, bias=False)\n                  (1): BatchNorm2d(128, eps=1e-05, momentum=0.1, affine=True, track_running_stats=True)\n                  (2): PReLU(num_parameters=128)\n                )\n              )\n              (2): LinearBlock(\n                (layers): Sequential(\n                  (0): Conv2d(128, 64, kernel_size=(1, 1), stride=(1, 1), bias=False)\n                  (1): BatchNorm2d(64, eps=1e-05, momentum=0.1, affine=True, track_running_stats=True)\n                )\n              )\n            )\n          )\n        )\n      )\n      (4): DepthWise(\n        (layers): Sequential(\n          (0): ConvBlock(\n            (layers): Sequential(\n              (0): Conv2d(64, 256, kernel_size=(1, 1), stride=(1, 1), bias=False)\n              (1): BatchNorm2d(256, eps=1e-05, momentum=0.1, affine=True, track_running_stats=True)\n              (2): PReLU(num_parameters=256)\n            )\n          )\n          (1): ConvBlock(\n            (layers): Sequential(\n              (0): Conv2d(256, 256, kernel_size=(3, 3), stride=(2, 2), padding=(1, 1), groups=256, bias=False)\n              (1): BatchNorm2d(256, eps=1e-05, momentum=0.1, affine=True, track_running_stats=True)\n              (2): PReLU(num_parameters=256)\n            )\n          )\n          (2): LinearBlock(\n            (layers): Sequential(\n              (0): Conv2d(256, 128, kernel_size=(1, 1), stride=(1, 1), bias=False)\n              (1): BatchNorm2d(128, eps=1e-05, momentum=0.1, affine=True, track_running_stats=True)\n            )\n          )\n        )\n      )\n      (5): Residual(\n        (layers): Sequential(\n          (0): DepthWise(\n            (layers): Sequential(\n              (0): ConvBlock(\n                (layers): Sequential(\n                  (0): Conv2d(128, 256, kernel_size=(1, 1), stride=(1, 1), bias=False)\n                  (1): BatchNorm2d(256, eps=1e-05, momentum=0.1, affine=True, track_running_stats=True)\n                  (2): PReLU(num_parameters=256)\n                )\n              )\n              (1): ConvBlock(\n                (layers): Sequential(\n                  (0): Conv2d(256, 256, kernel_size=(3, 3), stride=(1, 1), padding=(1, 1), groups=256, bias=False)\n                  (1): BatchNorm2d(256, eps=1e-05, momentum=0.1, affine=True, track_running_stats=True)\n                  (2): PReLU(num_parameters=256)\n                )\n              )\n              (2): LinearBlock(\n                (layers): Sequential(\n                  (0): Conv2d(256, 128, kernel_size=(1, 1), stride=(1, 1), bias=False)\n                  (1): BatchNorm2d(128, eps=1e-05, momentum=0.1, affine=True, track_running_stats=True)\n                )\n              )\n            )\n          )\n          (1): DepthWise(\n            (layers): Sequential(\n              (0): ConvBlock(\n                (layers): Sequential(\n                  (0): Conv2d(128, 256, kernel_size=(1, 1), stride=(1, 1), bias=False)\n                  (1): BatchNorm2d(256, eps=1e-05, momentum=0.1, affine=True, track_running_stats=True)\n                  (2): PReLU(num_parameters=256)\n                )\n              )\n              (1): ConvBlock(\n                (layers): Sequential(\n                  (0): Conv2d(256, 256, kernel_size=(3, 3), stride=(1, 1), padding=(1, 1), groups=256, bias=False)\n                  (1): BatchNorm2d(256, eps=1e-05, momentum=0.1, affine=True, track_running_stats=True)\n                  (2): PReLU(num_parameters=256)\n                )\n              )\n              (2): LinearBlock(\n                (layers): Sequential(\n                  (0): Conv2d(256, 128, kernel_size=(1, 1), stride=(1, 1), bias=False)\n                  (1): BatchNorm2d(128, eps=1e-05, momentum=0.1, affine=True, track_running_stats=True)\n                )\n              )\n            )\n          )\n          (2): DepthWise(\n            (layers): Sequential(\n              (0): ConvBlock(\n                (layers): Sequential(\n                  (0): Conv2d(128, 256, kernel_size=(1, 1), stride=(1, 1), bias=False)\n                  (1): BatchNorm2d(256, eps=1e-05, momentum=0.1, affine=True, track_running_stats=True)\n                  (2): PReLU(num_parameters=256)\n                )\n              )\n              (1): ConvBlock(\n                (layers): Sequential(\n                  (0): Conv2d(256, 256, kernel_size=(3, 3), stride=(1, 1), padding=(1, 1), groups=256, bias=False)\n                  (1): BatchNorm2d(256, eps=1e-05, momentum=0.1, affine=True, track_running_stats=True)\n                  (2): PReLU(num_parameters=256)\n                )\n              )\n              (2): LinearBlock(\n                (layers): Sequential(\n                  (0): Conv2d(256, 128, kernel_size=(1, 1), stride=(1, 1), bias=False)\n                  (1): BatchNorm2d(128, eps=1e-05, momentum=0.1, affine=True, track_running_stats=True)\n                )\n              )\n            )\n          )\n          (3): DepthWise(\n            (layers): Sequential(\n              (0): ConvBlock(\n                (layers): Sequential(\n                  (0): Conv2d(128, 256, kernel_size=(1, 1), stride=(1, 1), bias=False)\n                  (1): BatchNorm2d(256, eps=1e-05, momentum=0.1, affine=True, track_running_stats=True)\n                  (2): PReLU(num_parameters=256)\n                )\n              )\n              (1): ConvBlock(\n                (layers): Sequential(\n                  (0): Conv2d(256, 256, kernel_size=(3, 3), stride=(1, 1), padding=(1, 1), groups=256, bias=False)\n                  (1): BatchNorm2d(256, eps=1e-05, momentum=0.1, affine=True, track_running_stats=True)\n                  (2): PReLU(num_parameters=256)\n                )\n              )\n              (2): LinearBlock(\n                (layers): Sequential(\n                  (0): Conv2d(256, 128, kernel_size=(1, 1), stride=(1, 1), bias=False)\n                  (1): BatchNorm2d(128, eps=1e-05, momentum=0.1, affine=True, track_running_stats=True)\n                )\n              )\n            )\n          )\n          (4): DepthWise(\n            (layers): Sequential(\n              (0): ConvBlock(\n                (layers): Sequential(\n                  (0): Conv2d(128, 256, kernel_size=(1, 1), stride=(1, 1), bias=False)\n                  (1): BatchNorm2d(256, eps=1e-05, momentum=0.1, affine=True, track_running_stats=True)\n                  (2): PReLU(num_parameters=256)\n                )\n              )\n              (1): ConvBlock(\n                (layers): Sequential(\n                  (0): Conv2d(256, 256, kernel_size=(3, 3), stride=(1, 1), padding=(1, 1), groups=256, bias=False)\n                  (1): BatchNorm2d(256, eps=1e-05, momentum=0.1, affine=True, track_running_stats=True)\n                  (2): PReLU(num_parameters=256)\n                )\n              )\n              (2): LinearBlock(\n                (layers): Sequential(\n                  (0): Conv2d(256, 128, kernel_size=(1, 1), stride=(1, 1), bias=False)\n                  (1): BatchNorm2d(128, eps=1e-05, momentum=0.1, affine=True, track_running_stats=True)\n                )\n              )\n            )\n          )\n          (5): DepthWise(\n            (layers): Sequential(\n              (0): ConvBlock(\n                (layers): Sequential(\n                  (0): Conv2d(128, 256, kernel_size=(1, 1), stride=(1, 1), bias=False)\n                  (1): BatchNorm2d(256, eps=1e-05, momentum=0.1, affine=True, track_running_stats=True)\n                  (2): PReLU(num_parameters=256)\n                )\n              )\n              (1): ConvBlock(\n                (layers): Sequential(\n                  (0): Conv2d(256, 256, kernel_size=(3, 3), stride=(1, 1), padding=(1, 1), groups=256, bias=False)\n                  (1): BatchNorm2d(256, eps=1e-05, momentum=0.1, affine=True, track_running_stats=True)\n                  (2): PReLU(num_parameters=256)\n                )\n              )\n              (2): LinearBlock(\n                (layers): Sequential(\n                  (0): Conv2d(256, 128, kernel_size=(1, 1), stride=(1, 1), bias=False)\n                  (1): BatchNorm2d(128, eps=1e-05, momentum=0.1, affine=True, track_running_stats=True)\n                )\n              )\n            )\n          )\n        )\n      )\n      (6): DepthWise(\n        (layers): Sequential(\n          (0): ConvBlock(\n            (layers): Sequential(\n              (0): Conv2d(128, 512, kernel_size=(1, 1), stride=(1, 1), bias=False)\n              (1): BatchNorm2d(512, eps=1e-05, momentum=0.1, affine=True, track_running_stats=True)\n              (2): PReLU(num_parameters=512)\n            )\n          )\n          (1): ConvBlock(\n            (layers): Sequential(\n              (0): Conv2d(512, 512, kernel_size=(3, 3), stride=(2, 2), padding=(1, 1), groups=512, bias=False)\n              (1): BatchNorm2d(512, eps=1e-05, momentum=0.1, affine=True, track_running_stats=True)\n              (2): PReLU(num_parameters=512)\n            )\n          )\n          (2): LinearBlock(\n            (layers): Sequential(\n              (0): Conv2d(512, 128, kernel_size=(1, 1), stride=(1, 1), bias=False)\n              (1): BatchNorm2d(128, eps=1e-05, momentum=0.1, affine=True, track_running_stats=True)\n            )\n          )\n        )\n      )\n      (7): Residual(\n        (layers): Sequential(\n          (0): DepthWise(\n            (layers): Sequential(\n              (0): ConvBlock(\n                (layers): Sequential(\n                  (0): Conv2d(128, 256, kernel_size=(1, 1), stride=(1, 1), bias=False)\n                  (1): BatchNorm2d(256, eps=1e-05, momentum=0.1, affine=True, track_running_stats=True)\n                  (2): PReLU(num_parameters=256)\n                )\n              )\n              (1): ConvBlock(\n                (layers): Sequential(\n                  (0): Conv2d(256, 256, kernel_size=(3, 3), stride=(1, 1), padding=(1, 1), groups=256, bias=False)\n                  (1): BatchNorm2d(256, eps=1e-05, momentum=0.1, affine=True, track_running_stats=True)\n                  (2): PReLU(num_parameters=256)\n                )\n              )\n              (2): LinearBlock(\n                (layers): Sequential(\n                  (0): Conv2d(256, 128, kernel_size=(1, 1), stride=(1, 1), bias=False)\n                  (1): BatchNorm2d(128, eps=1e-05, momentum=0.1, affine=True, track_running_stats=True)\n                )\n              )\n            )\n          )\n          (1): DepthWise(\n            (layers): Sequential(\n              (0): ConvBlock(\n                (layers): Sequential(\n                  (0): Conv2d(128, 256, kernel_size=(1, 1), stride=(1, 1), bias=False)\n                  (1): BatchNorm2d(256, eps=1e-05, momentum=0.1, affine=True, track_running_stats=True)\n                  (2): PReLU(num_parameters=256)\n                )\n              )\n              (1): ConvBlock(\n                (layers): Sequential(\n                  (0): Conv2d(256, 256, kernel_size=(3, 3), stride=(1, 1), padding=(1, 1), groups=256, bias=False)\n                  (1): BatchNorm2d(256, eps=1e-05, momentum=0.1, affine=True, track_running_stats=True)\n                  (2): PReLU(num_parameters=256)\n                )\n              )\n              (2): LinearBlock(\n                (layers): Sequential(\n                  (0): Conv2d(256, 128, kernel_size=(1, 1), stride=(1, 1), bias=False)\n                  (1): BatchNorm2d(128, eps=1e-05, momentum=0.1, affine=True, track_running_stats=True)\n                )\n              )\n            )\n          )\n        )\n      )\n    )\n    (conv_sep): ConvBlock(\n      (layers): Sequential(\n        (0): Conv2d(128, 512, kernel_size=(1, 1), stride=(1, 1), bias=False)\n        (1): BatchNorm2d(512, eps=1e-05, momentum=0.1, affine=True, track_running_stats=True)\n        (2): PReLU(num_parameters=512)\n      )\n    )\n    (features): GDC(\n      (layers): Sequential(\n        (0): LinearBlock(\n          (layers): Sequential(\n            (0): Conv2d(512, 512, kernel_size=(7, 7), stride=(1, 1), groups=512, bias=False)\n            (1): BatchNorm2d(512, eps=1e-05, momentum=0.1, affine=True, track_running_stats=True)\n          )\n        )\n        (1): Flatten()\n        (2): Linear(in_features=512, out_features=128, bias=False)\n        (3): BatchNorm1d(128, eps=1e-05, momentum=0.1, affine=True, track_running_stats=True)\n      )\n    )\n  )\n  (ae_sequence): BiLSTM(\n    (lstm): LSTM(324, 64, batch_first=True, bidirectional=True)\n    (linear): Linear(in_features=256, out_features=64, bias=True)\n    (relu): ReLU()\n    (dropout): Dropout(p=0.1, inplace=False)\n    (out): Linear(in_features=64, out_features=128, bias=True)\n  )\n  (fc): Linear(in_features=256, out_features=128, bias=True)\n)"
     },
     "execution_count": 3,
     "metadata": {},
     "output_type": "execute_result"
    }
   ],
   "source": [
    "def calc_euclidean(feat1, feat2):\n",
    "    feat1 = feat1.ravel()\n",
    "    feat2 = feat2.ravel()\n",
    "    return torch.dot(feat1, feat2) / (torch.linalg.norm(feat1) * torch.linalg.norm(feat2))\n",
    "\n",
    "def softmax(x):\n",
    "    \"\"\"Compute softmax values for each sets of scores in x.\"\"\"\n",
    "    e_x = np.exp(x - np.max(x))\n",
    "    return e_x / e_x.sum(axis=0)\n",
    "\n",
    "device = torch.device('cpu')\n",
    "model = GaitFCV2()\n",
    "model.load_state_dict(torch.load('src/gait_fcv2_epoch_27.pt'))\n",
    "\n",
    "# model = GaitFCV2()\n",
    "# model.load_state_dict(torch.load('src/gait_fcv2_epoch_50.pt'))\n",
    "model.to(device)\n",
    "model.eval()"
   ],
   "metadata": {
    "collapsed": false,
    "pycharm": {
     "name": "#%%\n"
    }
   }
  },
  {
   "cell_type": "code",
   "execution_count": 4,
   "outputs": [
    {
     "name": "stdout",
     "output_type": "stream",
     "text": [
      "tensor([[ 4.5164e-02,  9.3084e-02,  7.3875e-02, -9.5822e-02,  3.4642e-02,\n",
      "          2.9182e-02, -4.4587e-02, -1.1725e-02, -8.7492e-02,  2.9608e-04,\n",
      "          5.9329e-02, -6.0872e-02, -2.7436e-02,  4.4770e-02,  1.2796e-03,\n",
      "         -8.6126e-02, -1.8185e-02,  6.8145e-03,  1.1460e-01, -1.0944e-02,\n",
      "         -5.9417e-02, -1.2702e-02, -8.6172e-02, -1.1346e-03,  5.8882e-02,\n",
      "          4.6735e-02, -6.2541e-02,  1.4308e-01,  4.3904e-02, -5.6263e-02,\n",
      "         -5.4706e-02,  3.3687e-02,  1.0509e-02, -5.5668e-02,  8.0472e-02,\n",
      "          1.5240e-01,  6.2602e-02, -6.9069e-02,  4.3618e-02,  3.4276e-02,\n",
      "         -4.9288e-02, -1.2192e-01, -8.6704e-03,  2.7144e-02, -9.5676e-02,\n",
      "          1.7085e-01,  2.5639e-02, -6.4406e-02,  9.6724e-02,  4.1294e-02,\n",
      "          3.6610e-02,  3.8325e-02,  1.0929e-01,  5.4792e-02, -2.3233e-02,\n",
      "          3.4548e-03, -1.9993e-02,  3.8035e-02, -1.1853e-01, -9.8928e-02,\n",
      "          9.3222e-02,  1.5096e-02,  9.5566e-02, -4.1409e-02, -1.1692e-01,\n",
      "          4.5675e-02,  8.9747e-03, -3.2141e-02,  9.4818e-02, -2.5326e-02,\n",
      "          8.0576e-02,  2.8077e-02,  7.7278e-02,  8.3512e-02,  6.8163e-02,\n",
      "         -6.5607e-02,  8.0548e-02, -9.7571e-02,  6.4084e-02, -1.0542e-02,\n",
      "         -2.6306e-02,  1.0043e-01,  1.0809e-01, -1.8731e-02, -1.8984e-02,\n",
      "         -9.2312e-03, -4.1656e-03, -6.6378e-02, -7.0510e-02, -1.9925e-02,\n",
      "         -6.1445e-02, -5.6372e-02, -3.0532e-02,  5.1801e-02,  4.2549e-02,\n",
      "          6.2524e-02,  1.8650e-02,  3.4233e-02, -4.7954e-02, -1.1796e-01,\n",
      "          2.5924e-02,  1.9597e-02, -7.1336e-02,  3.2432e-02, -4.3454e-02,\n",
      "          6.6641e-02,  6.9265e-03, -3.2999e-02,  9.7265e-03,  3.9429e-03,\n",
      "         -4.3865e-02,  1.2589e-03,  2.5035e-02,  4.0364e-02, -1.2550e-02,\n",
      "         -7.3013e-02, -5.4924e-02,  1.0517e-01, -9.9232e-03, -5.2031e-02,\n",
      "         -4.7754e-02, -9.9360e-02,  8.5584e-02, -9.5196e-03, -2.8128e-02,\n",
      "          7.1813e-03,  8.1510e-02, -1.9796e-02, -2.4528e-01, -2.1919e-01,\n",
      "         -4.4496e-03, -1.4279e+00,  9.9747e-01,  6.3522e-02,  2.9841e-01,\n",
      "         -1.4237e+00,  2.4537e-01,  5.0281e-01, -2.1965e-02, -1.1785e+00,\n",
      "          4.9080e-01, -1.5500e+00, -1.4204e+00,  6.8195e-01,  2.6313e-01,\n",
      "         -4.2047e-01,  4.8020e-01,  1.9608e-02, -9.4972e-02, -1.8210e-01,\n",
      "          4.2741e-01, -7.8551e-01, -7.0613e-03,  3.2962e-01, -3.7541e-02,\n",
      "         -4.8510e-01, -2.5767e-01, -1.7891e+00,  5.1841e-01, -4.3021e-01,\n",
      "          2.8765e-01,  1.9256e-01, -9.6743e-01, -7.7716e-01, -3.2364e-01,\n",
      "         -9.1847e-01, -1.4906e-01,  3.0433e-02, -2.2968e-01, -1.1859e+00,\n",
      "          1.4367e+00,  3.3365e-01, -1.0879e+00,  9.1761e-02, -4.2186e-01,\n",
      "         -1.0652e+00,  2.4770e-01,  1.7337e+00,  6.1055e-01,  2.8592e-01,\n",
      "         -5.6043e-02, -6.8763e-02,  8.4269e-01,  2.2705e-01, -5.7423e-01,\n",
      "          3.8218e-02,  6.0240e-01, -5.4850e-01, -7.1312e-01,  3.0793e-01,\n",
      "          5.5833e-01, -1.3981e+00,  2.2386e-01,  4.2417e-02, -2.0485e-01,\n",
      "         -5.5015e-01, -8.3470e-01, -1.0808e+00, -3.6364e-01,  6.5694e-01,\n",
      "         -3.8973e-01,  6.3521e-01, -1.0870e-01,  1.1855e+00,  4.7449e-01,\n",
      "          9.7943e-01,  9.2147e-01,  1.0109e+00, -4.8722e-01,  4.8979e-01,\n",
      "         -7.7590e-01, -5.7056e-01, -1.4029e+00, -9.2575e-01,  7.9553e-02,\n",
      "         -8.0519e-01,  1.3884e-01,  3.4115e-01, -2.0456e-01, -1.0764e-01,\n",
      "         -3.9022e-01,  1.3091e-01, -3.8436e-01,  1.3426e-02, -3.0605e-01,\n",
      "          2.2128e-01, -3.9844e-01, -4.2111e-01,  1.2602e+00,  1.3983e-01,\n",
      "          3.5403e-01, -1.5735e-01, -5.0845e-02,  1.3963e-01, -7.4425e-01,\n",
      "          6.9332e-02,  6.2226e-01,  1.9039e-01,  1.4162e+00,  8.8694e-01,\n",
      "          7.5439e-01, -2.3118e-01,  8.8738e-01,  9.1563e-02, -6.2024e-01,\n",
      "          6.4441e-02,  1.1046e+00, -4.2937e-01,  1.3402e+00,  2.6252e-01,\n",
      "         -9.5955e-02,  3.4949e-02, -1.5706e-01, -8.6118e-01, -3.5257e-01,\n",
      "          9.2983e-02]], grad_fn=<CatBackward0>)\n"
     ]
    },
    {
     "name": "stderr",
     "output_type": "stream",
     "text": [
      "C:\\Users\\Cuong Tran\\AppData\\Roaming\\Python\\Python38\\site-packages\\torch\\autocast_mode.py:141: UserWarning: User provided device_type of 'cuda', but CUDA is not available. Disabling\n",
      "  warnings.warn('User provided device_type of \\'cuda\\', but CUDA is not available. Disabling')\n"
     ]
    }
   ],
   "source": [
    "def preprocess(vid):\n",
    "    with open(vid, 'rb') as handle:\n",
    "        anchor_vid = pickle.load(handle)\n",
    "        a_v = anchor_vid['ae_feat']\n",
    "        a_v = softmax(a_v)\n",
    "        a_gei = anchor_vid['gei']\n",
    "        a_gei = np.expand_dims(a_gei, axis=0)/40\n",
    "    a_v = torch.from_numpy(a_v).float()\n",
    "    a_gei = torch.from_numpy(a_gei).float()\n",
    "    return a_v, a_gei\n",
    "\n",
    "a_v, a_gei = preprocess('gait_fc_dataset/test/0/000.pkl')\n",
    "feat = model(a_v.unsqueeze(0).to(device), a_gei.unsqueeze(0).to(device))\n",
    "print(feat)"
   ],
   "metadata": {
    "collapsed": false,
    "pycharm": {
     "name": "#%%\n"
    }
   }
  },
  {
   "cell_type": "markdown",
   "source": [
    "# DB get embed"
   ],
   "metadata": {
    "collapsed": false,
    "pycharm": {
     "name": "#%% md\n"
    }
   }
  },
  {
   "cell_type": "code",
   "execution_count": 5,
   "outputs": [
    {
     "name": "stdout",
     "output_type": "stream",
     "text": [
      "1990\n"
     ]
    }
   ],
   "source": [
    "embeddings_db = []\n",
    "target_embed_db = []\n",
    "with torch.no_grad():\n",
    "    for idx, vid in zip(target_db, videos_db):\n",
    "        a_v, a_gei = preprocess(vid)\n",
    "        # print(a_v.shape)\n",
    "        # print(a_gei.shape)\n",
    "        feat = model(a_v.unsqueeze(0).to(device), a_gei.unsqueeze(0).to(device))\n",
    "        embeddings_db.append(feat[0])\n",
    "        target_embed_db.append(idx)\n",
    "        # break\n",
    "\n",
    "print(len(embeddings_db))"
   ],
   "metadata": {
    "collapsed": false,
    "pycharm": {
     "name": "#%%\n"
    }
   }
  },
  {
   "cell_type": "markdown",
   "source": [
    "# AT Get embed\n"
   ],
   "metadata": {
    "collapsed": false,
    "pycharm": {
     "name": "#%% md\n"
    }
   }
  },
  {
   "cell_type": "code",
   "execution_count": 9,
   "outputs": [
    {
     "name": "stderr",
     "output_type": "stream",
     "text": [
      "C:\\Users\\Cuong Tran\\AppData\\Roaming\\Python\\Python38\\site-packages\\torch\\autocast_mode.py:141: UserWarning: User provided device_type of 'cuda', but CUDA is not available. Disabling\n",
      "  warnings.warn('User provided device_type of \\'cuda\\', but CUDA is not available. Disabling')\n"
     ]
    },
    {
     "name": "stdout",
     "output_type": "stream",
     "text": [
      "1957\n"
     ]
    }
   ],
   "source": [
    "embeddings_at = []\n",
    "target_embed_at = []\n",
    "with torch.no_grad():\n",
    "    for idx, vid in zip(target_at, video_at):\n",
    "        a_v, a_gei = preprocess(vid)\n",
    "        # print(a_v.shape)\n",
    "        # print(a_gei.shape)\n",
    "        feat = model(a_v.unsqueeze(0).to(device), a_gei.unsqueeze(0).to(device))\n",
    "        embeddings_at.append(feat[0])\n",
    "        target_embed_at.append(idx)\n",
    "        # break\n",
    "\n",
    "print(len(embeddings_at))"
   ],
   "metadata": {
    "collapsed": false,
    "pycharm": {
     "name": "#%%\n"
    }
   }
  },
  {
   "cell_type": "markdown",
   "source": [
    "# ROC and ERR"
   ],
   "metadata": {
    "collapsed": false,
    "pycharm": {
     "name": "#%% md\n"
    }
   }
  },
  {
   "cell_type": "code",
   "execution_count": 46,
   "outputs": [],
   "source": [
    "truth = []\n",
    "pred = []\n",
    "pred_score = []\n",
    "\n",
    "thress = 0.3\n",
    "\n",
    "false_over_thress = 0\n",
    "\n",
    "d_means = []\n",
    "\n",
    "for name, feat in zip(target_embed_at, embeddings_at):\n",
    "    one_hot = [0]*len(set(target_embed_db))\n",
    "    one_hot[name] = 1\n",
    "\n",
    "    one_hot_pred = [0]*len(set(target_embed_db))\n",
    "\n",
    "    max_d = 0\n",
    "    pred = 73\n",
    "    for t, a in zip(target_embed_db, embeddings_db):\n",
    "        d = calc_euclidean(feat, a)\n",
    "        if d.item() > one_hot_pred[t]:\n",
    "            one_hot_pred[t] = d.item()\n",
    "        if d>max_d:\n",
    "            # print(t, d)\n",
    "            max_d = d\n",
    "            pred = t\n",
    "    # print(max(one_hot_pred))\n",
    "    # print(len(one_hot_pred))\n",
    "    # print(one_hot_pred.index(max(one_hot_pred)))\n",
    "    # print(pred)\n",
    "    # print(one_hot_pred, one_hot)\n",
    "    truth.append(one_hot)\n",
    "    pred_score.append(one_hot_pred)\n",
    "    # break\n",
    "\n",
    "# print(false_over_thress)"
   ],
   "metadata": {
    "collapsed": false,
    "pycharm": {
     "name": "#%%\n"
    }
   }
  },
  {
   "cell_type": "code",
   "execution_count": 49,
   "outputs": [],
   "source": [
    "truth = np.array(truth)\n",
    "pred_score = np.array(pred_score)"
   ],
   "metadata": {
    "collapsed": false,
    "pycharm": {
     "name": "#%%\n"
    }
   }
  },
  {
   "cell_type": "code",
   "execution_count": null,
   "outputs": [],
   "source": [
    "print(pred_score[-1])"
   ],
   "metadata": {
    "collapsed": false,
    "pycharm": {
     "name": "#%%\n",
     "is_executing": true
    }
   }
  },
  {
   "cell_type": "code",
   "execution_count": 66,
   "outputs": [
    {
     "name": "stdout",
     "output_type": "stream",
     "text": [
      "0.037387186424806054 0.40015344301315203\n"
     ]
    },
    {
     "data": {
      "text/plain": "<Figure size 432x288 with 1 Axes>",
      "image/png": "[encoded data removed]"
     },
     "metadata": {
      "needs_background": "light"
     },
     "output_type": "display_data"
    }
   ],
   "source": [
    "from sklearn.metrics import roc_curve, auc\n",
    "import matplotlib.pyplot as plt\n",
    "\n",
    "fpr = dict()\n",
    "tpr = dict()\n",
    "fnr = dict()\n",
    "roc_auc = dict()\n",
    "eer_threshold = dict()\n",
    "eer = dict()\n",
    "lw=2\n",
    "\n",
    "for i in range(len(set(target_embed_db))):\n",
    "    fpr[i], tpr[i], threshold = roc_curve(truth[:, i], pred_score[:, i])\n",
    "    fnr[i] = 1 - tpr[i]\n",
    "\n",
    "    roc_auc[i] = auc(fpr[i], tpr[i])\n",
    "    eer[i] = fpr[i][np.nanargmin(np.absolute((1 - tpr[i]) - fpr[i]))]\n",
    "    eer_threshold[i] = threshold[np.nanargmin(np.absolute((fnr[i] - fpr[i])))]\n",
    "\n",
    "eer_threshold = np.array(list(eer_threshold.values()))\n",
    "err = np.array(list(eer.values()))\n",
    "print(err.mean(), eer_threshold.mean())\n",
    "\n",
    "\n",
    "for i in range(len(set(target_embed_db))):\n",
    "    plt.plot(fpr[i], tpr[i], lw=2, label='ROC curve of class {0} (area = {1:0.2f})'''.format(i, roc_auc[i]))\n",
    "\n",
    "\n",
    "plt.plot([0, 1], [0, 1], 'k--', lw=lw)\n",
    "plt.xlim([-0.05, 1.0])\n",
    "plt.ylim([0.0, 1.05])\n",
    "plt.xlabel('False Positive Rate')\n",
    "plt.ylabel('True Positive Rate')\n",
    "plt.title('Receiver operating characteristic for multi-class data')\n",
    "# plt.legend(loc=\"lower right\")\n",
    "plt.show()"
   ],
   "metadata": {
    "collapsed": false,
    "pycharm": {
     "name": "#%%\n"
    }
   }
  },
  {
   "cell_type": "code",
   "execution_count": 13,
   "outputs": [
    {
     "name": "stdout",
     "output_type": "stream",
     "text": [
      "0.026349299\n"
     ]
    }
   ],
   "source": [
    "print(eer_threshold)"
   ],
   "metadata": {
    "collapsed": false,
    "pycharm": {
     "name": "#%%\n"
    }
   }
  },
  {
   "cell_type": "code",
   "execution_count": 73,
   "outputs": [
    {
     "data": {
      "text/plain": "<Figure size 432x288 with 1 Axes>",
      "image/png": "[encoded data removed]"
     },
     "metadata": {
      "needs_background": "light"
     },
     "output_type": "display_data"
    }
   ],
   "source": [
    "tuchoisai = np.array([0.35, 4.22, 12.70])\n",
    "chapnhansai = np.array([1.07+5.22, 0.16+2.94, 0.02+0.89])\n",
    "\n",
    "nguong = [0.3, 0.4, 0.5]\n",
    "\n",
    "plt.plot(nguong, tuchoisai, label='Từ chối sai')\n",
    "plt.plot(nguong, chapnhansai, label='Chấp nhận sai')\n",
    "plt.legend(loc=\"lower right\")\n",
    "plt.xlabel('Ngưỡng nhận dạng')\n",
    "plt.ylabel('Tỷ lệ(%)')\n",
    "plt.show()"
   ],
   "metadata": {
    "collapsed": false,
    "pycharm": {
     "name": "#%%\n"
    }
   }
  }
 ],
 "metadata": {
  "kernelspec": {
   "display_name": "Python 3",
   "language": "python",
   "name": "python3"
  },
  "language_info": {
   "codemirror_mode": {
    "name": "ipython",
    "version": 2
   },
   "file_extension": ".py",
   "mimetype": "text/x-python",
   "name": "python",
   "nbconvert_exporter": "python",
   "pygments_lexer": "ipython2",
   "version": "2.7.6"
  }
 },
 "nbformat": 4,
 "nbformat_minor": 0
}